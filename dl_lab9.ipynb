{
 "cells": [
  {
   "cell_type": "code",
   "execution_count": 3,
   "id": "c23dfa50",
   "metadata": {},
   "outputs": [
    {
     "ename": "ModuleNotFoundError",
     "evalue": "No module named 'imgaug'",
     "output_type": "error",
     "traceback": [
      "\u001b[1;31m---------------------------------------------------------------------------\u001b[0m",
      "\u001b[1;31mModuleNotFoundError\u001b[0m                       Traceback (most recent call last)",
      "Cell \u001b[1;32mIn[3], line 30\u001b[0m\n\u001b[0;32m     27\u001b[0m \u001b[38;5;66;03m# Upload image path\u001b[39;00m\n\u001b[0;32m     28\u001b[0m IMAGE_PATH \u001b[38;5;241m=\u001b[39m \u001b[38;5;124m\"\u001b[39m\u001b[38;5;124m/content/Mask_RCNN/images/1045023827_4ec3e8ba5c_z.jpg\u001b[39m\u001b[38;5;124m\"\u001b[39m\n\u001b[1;32m---> 30\u001b[0m \u001b[38;5;28;01mimport\u001b[39;00m \u001b[38;5;21;01mcoco\u001b[39;00m\n\u001b[0;32m     31\u001b[0m \u001b[38;5;66;03m# Download the COCO dataset\u001b[39;00m\n\u001b[0;32m     32\u001b[0m sys\u001b[38;5;241m.\u001b[39mpath\u001b[38;5;241m.\u001b[39mappend(os\u001b[38;5;241m.\u001b[39mpath\u001b[38;5;241m.\u001b[39mjoin(ROOT_DIR, \u001b[38;5;124m\"\u001b[39m\u001b[38;5;124msamples/coco/\u001b[39m\u001b[38;5;124m\"\u001b[39m))\n",
      "File \u001b[1;32m~\\Mask_RCNN\\samples/coco\\coco.py:34\u001b[0m\n\u001b[0;32m     32\u001b[0m \u001b[38;5;28;01mimport\u001b[39;00m \u001b[38;5;21;01mtime\u001b[39;00m\n\u001b[0;32m     33\u001b[0m \u001b[38;5;28;01mimport\u001b[39;00m \u001b[38;5;21;01mnumpy\u001b[39;00m \u001b[38;5;28;01mas\u001b[39;00m \u001b[38;5;21;01mnp\u001b[39;00m\n\u001b[1;32m---> 34\u001b[0m \u001b[38;5;28;01mimport\u001b[39;00m \u001b[38;5;21;01mimgaug\u001b[39;00m  \u001b[38;5;66;03m# https://github.com/aleju/imgaug (pip3 install imgaug)\u001b[39;00m\n\u001b[0;32m     36\u001b[0m \u001b[38;5;66;03m# Download and install the Python COCO tools from https://github.com/waleedka/coco\u001b[39;00m\n\u001b[0;32m     37\u001b[0m \u001b[38;5;66;03m# That's a fork from the original https://github.com/pdollar/coco with a bug\u001b[39;00m\n\u001b[0;32m     38\u001b[0m \u001b[38;5;66;03m# fix for Python 3.\u001b[39;00m\n\u001b[0;32m     39\u001b[0m \u001b[38;5;66;03m# I submitted a pull request https://github.com/cocodataset/cocoapi/pull/50\u001b[39;00m\n\u001b[0;32m     40\u001b[0m \u001b[38;5;66;03m# If the PR is merged then use the original repo.\u001b[39;00m\n\u001b[0;32m     41\u001b[0m \u001b[38;5;66;03m# Note: Edit PythonAPI/Makefile and replace \"python\" with \"python3\".\u001b[39;00m\n\u001b[0;32m     42\u001b[0m \u001b[38;5;28;01mfrom\u001b[39;00m \u001b[38;5;21;01mpycocotools\u001b[39;00m\u001b[38;5;21;01m.\u001b[39;00m\u001b[38;5;21;01mcoco\u001b[39;00m \u001b[38;5;28;01mimport\u001b[39;00m COCO\n",
      "\u001b[1;31mModuleNotFoundError\u001b[0m: No module named 'imgaug'"
     ]
    }
   ],
   "source": [
    "# !git clone https://github.com/akTwelve/Mask_RCNN.git\n",
    "\n",
    "# Import libraries\n",
    "import os\n",
    "import sys\n",
    "import skimage.io\n",
    "import matplotlib.pyplot as plt\n",
    "import cv2\n",
    "import time\n",
    "import numpy as np\n",
    "import tensorflow as tf\n",
    "\n",
    "# Root directory of the project\n",
    "ROOT_DIR = \"Mask_RCNN\"\n",
    "\n",
    "# Import maskrcnn (mrcnn folder) as module\n",
    "sys.path.append(ROOT_DIR)\n",
    "\n",
    "# Make sure to upload the Image and you need to be inside MASK_RCNN folder to run from mrcnn. So keep in mind about the path\n",
    "from mrcnn import utils\n",
    "import mrcnn.model as modellib\n",
    "from mrcnn import visualize\n",
    "\n",
    "# Directory to save logs and trained model\n",
    "MODEL_DIR = os.path.join(ROOT_DIR, \"logs\")\n",
    "\n",
    "# Upload image path\n",
    "IMAGE_PATH = \"/content/Mask_RCNN/images/1045023827_4ec3e8ba5c_z.jpg\"\n",
    "\n",
    "import coco\n",
    "# Download the COCO dataset\n",
    "sys.path.append(os.path.join(ROOT_DIR, \"samples/coco/\"))\n",
    "\n",
    "\n",
    "\n",
    "# Weights path of Mask RCNN\n",
    "COCO_MODEL_PATH = os.path.join(ROOT_DIR, \"mask_rcnn_coco.h5\")\n",
    "if not os.path.exists(COCO_MODEL_PATH):\n",
    "    utils.download_trained_weights(COCO_MODEL_PATH)\n",
    "\n",
    "# Loading the model configuration\n",
    "class InferenceConfig(coco.CocoConfig):\n",
    "    GPU_COUNT = 1\n",
    "    IMAGES_PER_GPU = 1\n",
    "\n",
    "config = InferenceConfig()\n",
    "config.display()\n",
    "\n",
    "model = modellib.MaskRCNN(mode=\"inference\", model_dir=MODEL_DIR, config=config)\n",
    "model.load_weights(COCO_MODEL_PATH, by_name=True)\n",
    "\n",
    "# Load and display the image\n",
    "image = skimage.io.imread(IMAGE_PATH)\n",
    "plt.imshow(image)\n",
    "plt.title('Original')\n",
    "plt.axis('off')\n",
    "plt.show()\n",
    "\n",
    "# Workaround for a possible numpy deprecation warning\n",
    "np.bool = np.bool_\n",
    "\n",
    "# Run detection\n",
    "results = model.detect([image], verbose=1)\n",
    "r = results[0]\n",
    "\n",
    "# Visualize results without class names\n",
    "visualize.display_instances(image, r['rois'], r['masks'], r['class_ids'], [''] * len(r['class_ids']), r['scores'])\n"
   ]
  },
  {
   "cell_type": "code",
   "execution_count": null,
   "id": "fa5e280f",
   "metadata": {},
   "outputs": [],
   "source": []
  }
 ],
 "metadata": {
  "kernelspec": {
   "display_name": "Python 3 (ipykernel)",
   "language": "python",
   "name": "python3"
  },
  "language_info": {
   "codemirror_mode": {
    "name": "ipython",
    "version": 3
   },
   "file_extension": ".py",
   "mimetype": "text/x-python",
   "name": "python",
   "nbconvert_exporter": "python",
   "pygments_lexer": "ipython3",
   "version": "3.11.5"
  }
 },
 "nbformat": 4,
 "nbformat_minor": 5
}
