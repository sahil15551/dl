{
 "cells": [
  {
   "cell_type": "code",
   "execution_count": 1,
   "id": "65bd8cd1",
   "metadata": {},
   "outputs": [],
   "source": [
    "import numpy as np\n",
    "def hebbian_learning_rule(input_pat,wt_matrix):\n",
    "    return wt_matrix+np.outer(input_pat,input_pat)"
   ]
  },
  {
   "cell_type": "code",
   "execution_count": 11,
   "id": "9f157ec5",
   "metadata": {},
   "outputs": [],
   "source": [
    "def perceptron_learning_rule(input_pat,target,wt_vector,lr):\n",
    "    prediction=np.dot(wt_vector,input_pat)\n",
    "    error=target-prediction\n",
    "    return wt_vector+lr*error*input_pat\n",
    "\n",
    "def delta_learning_rule(input_pattern, target, weight_matrix, learning_rate):\n",
    "    prediction = np.dot(weight_matrix, input_pattern)\n",
    "    error = target - prediction\n",
    "    return weight_matrix + learning_rate * np.outer(error, input_pattern)\n",
    "\n",
    "# Correlation Learning Rule\n",
    "def correlation_learning_rule(input_pattern, weight_matrix):\n",
    "    return weight_matrix + np.outer(input_pattern, input_pattern)\n",
    "\n",
    "# Out Star Learning Rule\n",
    "def out_star_learning_rule(input_pattern, weight_matrix, learning_rate):\n",
    "    return weight_matrix + learning_rate * np.outer(input_pattern, input_pattern)\n"
   ]
  },
  {
   "cell_type": "code",
   "execution_count": 12,
   "id": "0d5d2fea",
   "metadata": {},
   "outputs": [
    {
     "name": "stdout",
     "output_type": "stream",
     "text": [
      "Hebbian Weights: [[0.5593155  0.97395407 0.25531177]\n",
      " [0.4335187  0.44096217 0.551466  ]\n",
      " [0.28840383 0.23334625 0.68139707]]\n",
      "\n",
      "Perceptron Weights: [0.33258681 0.93786572 0.26918333]\n",
      "\n",
      "Delta Weights: [[0.70250527 0.99665144 0.2870254 ]\n",
      " [0.26300573 0.06159491 0.30292319]\n",
      " [0.49817413 0.914084   0.30282724]]\n",
      "\n",
      "Correlation Weights: [[0.71183518 0.17620826 0.71290807]\n",
      " [0.74386181 0.71433159 0.43517329]\n",
      " [0.71248935 0.20065919 0.54692766]]\n",
      "\n",
      "Out Star Weights: [[0.58291349 0.56713037 0.31442949]\n",
      " [0.42540285 0.5940449  0.3425447 ]\n",
      " [0.04262027 0.74101964 0.95087762]]\n"
     ]
    }
   ],
   "source": [
    "input_pattern=np.array([0.2,0.8,0.5])\n",
    "target=1;\n",
    "input_size=3;\n",
    "\n",
    "hebbian_weights = np.random.rand(input_size, input_size)\n",
    "\n",
    "perceptron_weights = np.random.rand(input_size)\n",
    "\n",
    "delta_weights = np.random.rand(input_size, input_size)\n",
    "correlation_weights = np.random.rand(input_size, input_size)\n",
    "out_star_weights = np.random.rand(input_size, input_size)\n",
    "\n",
    "print(\"Hebbian Weights:\",hebbian_weights)\n",
    "print(\"\\nPerceptron Weights:\",perceptron_weights)\n",
    "print(\"\\nDelta Weights:\",delta_weights)\n",
    "print(\"\\nCorrelation Weights:\",correlation_weights)\n",
    "print(\"\\nOut Star Weights:\",out_star_weights)"
   ]
  },
  {
   "cell_type": "code",
   "execution_count": 14,
   "id": "ed960448",
   "metadata": {},
   "outputs": [
    {
     "name": "stdout",
     "output_type": "stream",
     "text": [
      "Hebbian Updated Weights: [[0.5993155  1.13395407 0.35531177]\n",
      " [0.5935187  1.08096217 0.951466  ]\n",
      " [0.38840383 0.63334625 0.93139707]]\n",
      "\n",
      "Perceptron Updated Weights: [0.33355878 0.9417536  0.27161325]\n",
      "\n",
      "Delta Updated Weights: [[0.70087857 0.99014465 0.28295866]\n",
      " [0.27793896 0.12132782 0.34025626]\n",
      " [0.49852782 0.91549875 0.30371146]]\n",
      "\n",
      "Correlation Updated Weights: [[0.75183518 0.33620826 0.81290807]\n",
      " [0.90386181 1.35433159 0.83517329]\n",
      " [0.81248935 0.60065919 0.79692766]]\n",
      "\n",
      "Out Star Updated Weights: [[0.58691349 0.58313037 0.32442949]\n",
      " [0.44140285 0.6580449  0.3825447 ]\n",
      " [0.05262027 0.78101964 0.97587762]]\n"
     ]
    }
   ],
   "source": [
    "hebbian_weights_updated = hebbian_learning_rule(input_pattern, hebbian_weights)\n",
    "\n",
    "perceptron_weights_updated = perceptron_learning_rule(input_pattern, target,perceptron_weights, 0.1)\n",
    "\n",
    "delta_weights_updated = delta_learning_rule(input_pattern, target, delta_weights,learning_rate=0.1)\n",
    "\n",
    "correlation_weights_updated = correlation_learning_rule(input_pattern, correlation_weights)\n",
    "\n",
    "out_star_weights_updated = out_star_learning_rule(input_pattern, out_star_weights,learning_rate=0.1)\n",
    "\n",
    "# Display updated weights\n",
    "print(\"Hebbian Updated Weights:\", hebbian_weights_updated)\n",
    "print(\"\\nPerceptron Updated Weights:\", perceptron_weights_updated)\n",
    "print(\"\\nDelta Updated Weights:\", delta_weights_updated)\n",
    "print(\"\\nCorrelation Updated Weights:\",correlation_weights_updated)\n",
    "print(\"\\nOut Star Updated Weights:\",out_star_weights_updated)"
   ]
  },
  {
   "cell_type": "code",
   "execution_count": null,
   "id": "be3dafaf",
   "metadata": {},
   "outputs": [],
   "source": []
  },
  {
   "cell_type": "code",
   "execution_count": null,
   "id": "9693f7d1",
   "metadata": {},
   "outputs": [],
   "source": []
  }
 ],
 "metadata": {
  "kernelspec": {
   "display_name": "Python 3 (ipykernel)",
   "language": "python",
   "name": "python3"
  },
  "language_info": {
   "codemirror_mode": {
    "name": "ipython",
    "version": 3
   },
   "file_extension": ".py",
   "mimetype": "text/x-python",
   "name": "python",
   "nbconvert_exporter": "python",
   "pygments_lexer": "ipython3",
   "version": "3.11.5"
  }
 },
 "nbformat": 4,
 "nbformat_minor": 5
}
